{
 "cells": [
  {
   "cell_type": "markdown",
   "metadata": {},
   "source": [
    "# BATs Language Metrics\n",
    "This is an attempt to jupyterize Wally's Language Metrics script (lang_metrics.py)\n",
    "\n",
    "Comment from the original script:\n",
    "   PURPOSE: Calculate various metrics to describe code-switching behavior in language-tagged corpora.\n"
   ]
  },
  {
   "cell_type": "code",
   "execution_count": 7,
   "metadata": {},
   "outputs": [],
   "source": [
    "# Lets import modules needed\n",
    "import sys\n",
    "import math\n",
    "import numpy as np\n",
    "import pandas as pd\n",
    "from itertools import groupby\n",
    "from collections import Counter\n",
    "import csv"
   ]
  },
  {
   "cell_type": "code",
   "execution_count": 8,
   "metadata": {},
   "outputs": [],
   "source": [
    "# These were the crux of the script. I would have preferred to rewrite these scripts \n",
    "# so they take some subset of the inputs: LANGS, LANG_TAGS and NUMTAGS\n",
    "# but for now I am leaving them as they are. \n",
    "# Future plan: Make a class with these variables as class members and define a constructor\n",
    "#              that does input file parsing and initializes these variables\n",
    "def metrics():\n",
    "        num_switchpoints()\n",
    "        m_metric()\n",
    "        i_metric()\n",
    "        norm_i_metric()\n",
    "        burstiness()\n",
    "        fano_factor()\n",
    "        memory()\n",
    "        lang_entropy()\n",
    "        span_entropy()\n",
    "        switch_entropy()\n",
    "        switch_surprisal()\n",
    "\n",
    "\n",
    "def num_switchpoints():\n",
    "        num_switches = 0\n",
    "\n",
    "        for index, tag in enumerate(LANG_TAGS[1:]):\n",
    "                if tag != LANG_TAGS[index - 1]:\n",
    "                        num_switches += 1\n",
    "\n",
    "        print(\"Number of switchpoints: {}\".format(num_switches))\n",
    "        return num_switches\n",
    "\n",
    "\n",
    "def m_metric():\n",
    "        num_langs = len(LANGS)\n",
    "        counts = Counter(LANG_TAGS)\n",
    "        m_metric = 0.0\n",
    "\n",
    "        if num_langs == 1:\n",
    "                print(\"M-metric: {}\".format(m_metric))\n",
    "                return\n",
    "\n",
    "        # Compute p_i^2 for all languages in text\n",
    "        p_lang = {}\n",
    "        for lang, count in counts.items():\n",
    "                p_lang[lang] = (count / float(NUMTAGS)) ** 2\n",
    "\n",
    "        p_sum = sum(p_lang.values())\n",
    "        m_metric = (1 - p_sum) / ((num_langs - 1) * p_sum)\n",
    "\n",
    "        print(\"M-metric: {}\".format(m_metric))\n",
    "        return m_metric\n",
    "\n",
    "\n",
    "def i_metric():\n",
    "        # Count number of language switches for each language\n",
    "        switches = {lang: {} for lang in LANGS}\n",
    "        counts = Counter(zip(LANG_TAGS, LANG_TAGS[1:]))\n",
    "\n",
    "        # Compute transition probabilities\n",
    "        for (x, y), c in counts.items():\n",
    "                switches[x][y] = c / float(NUMTAGS - 1)\n",
    "\n",
    "        i_metric = 0.0\n",
    "\n",
    "        # Sum all probabilities of switching language\n",
    "        for lang1, switch in switches.items():\n",
    "                for lang2, prob in switch.items():\n",
    "                        if lang1 != lang2:\n",
    "                                i_metric += prob\n",
    "\n",
    "        print(\"I-metric: {}\".format(i_metric))\n",
    "        return i_metric\n",
    "        \n",
    "def norm_i_metric():\n",
    "        i = i_metric()\n",
    "        counts = Counter(LANG_TAGS)\n",
    "        num_langs = len(LANGS)\n",
    "        \n",
    "        low = (num_langs - 1) / (NUMTAGS - 1)\n",
    "        least = NUMTAGS - max(counts.values())\n",
    "        high = min(2*least / (NUMTAGS - 1), 1)\n",
    "        \n",
    "        norm_i = (i - low)/(high - low)\n",
    "        \n",
    "        print(\"Normalized I-metric: {}\".format(norm_i))\n",
    "        return norm_i\n",
    "\n",
    "def burstiness():\n",
    "        spans = [len(list(group)) for lang, group in groupby(LANG_TAGS)]\n",
    "        mean = np.mean(spans)\n",
    "        sd = np.std(spans)\n",
    "        burstiness = (sd - mean)/(sd + mean)\n",
    "\n",
    "        print(\"Burstiness: {}\".format(burstiness))\n",
    "        return burstiness\n",
    "\n",
    "def fano_factor():\n",
    "        spans = [len(list(group)) for lang, group in groupby(LANG_TAGS)]\n",
    "        mean = np.mean(spans)\n",
    "        var = np.var(spans)\n",
    "        fano = var / mean\n",
    "\n",
    "        print(\"Fano: {}\".format(fano))\n",
    "        return fano\n",
    "\n",
    "def memory():\n",
    "        spans = [len(list(group)) for lang, group in groupby(LANG_TAGS)]\n",
    "        mean1 = np.mean(spans[:-1])\n",
    "        mean2 = np.mean(spans[1:])\n",
    "        sd1 = np.std(spans[:-1])\n",
    "        sd2 = np.std(spans[1:])\n",
    "        memory = 0.0\n",
    "\n",
    "        for i, span in enumerate(spans[:-1]):\n",
    "                memory += (span - mean1) * (spans[i + 1] - mean2)\n",
    "\n",
    "        memory /= (len(spans) - 1) * (sd1 * sd2)\n",
    "\n",
    "        print(\"Memory: {}\".format(memory))\n",
    "        return memory\n",
    "\n",
    "\n",
    "def spans():\n",
    "        spans = [(lang, len(list(group))) for lang, group in groupby(LANG_TAGS)]\n",
    "\n",
    "        print(\"Lang\\tLength\")\n",
    "\n",
    "        for lang, length in spans:\n",
    "                print(\"{}\\t{}\".format(lang, length))\n",
    "\n",
    "\n",
    "def span_summary():\n",
    "        spans = sorted([(lang, len(list(group))) for lang, group in groupby(LANG_TAGS)])\n",
    "        spans = sorted([(c, len(list(cgen))) for c, cgen in groupby(spans)])\n",
    "\n",
    "        print(\"Lang\\tSpanLength\\tSpanFreq\")\n",
    "\n",
    "        for (lang, length), freq in spans:\n",
    "                print(\"{}\\t{}\\t{}\".format(lang, length, freq))\n",
    "\n",
    "\n",
    "def switchpoints():\n",
    "        switchpoints = []\n",
    "\n",
    "        # Compute vector of switch indices\n",
    "        for index, tag in enumerate(LANG_TAGS[:-1]):\n",
    "                if tag != LANG_TAGS[index + 1]:\n",
    "                        switchpoints.append(index + 1)\n",
    "                else:\n",
    "                        switchpoints.append(0)\n",
    "\n",
    "        for switch in switchpoints:\n",
    "                print(\"{}\".format(switch))\n",
    "\n",
    "\n",
    "def lang_entropy():\n",
    "        # Count frequencies of language tokens\n",
    "        counts = Counter(LANG_TAGS)\n",
    "        num_langs = len(LANGS)\n",
    "\n",
    "\n",
    "        # Compute entropy based on unigram language tokens\n",
    "        lang_entropy = 0.0\n",
    "        for lang, count in counts.items():\n",
    "                lang_prob = count / float(NUMTAGS)\n",
    "                lang_entropy -= lang_prob * math.log2(lang_prob)\n",
    "                \n",
    "        lang_entropy /= math.log2(num_langs)\n",
    "\n",
    "        print(\"Language Entropy: {}\".format(lang_entropy))\n",
    "        return lang_entropy\n",
    "\n",
    "\n",
    "def span_entropy():\n",
    "        # Get frequencies of language spans\n",
    "        spans = [len(list(group)) for lang, group in groupby(LANG_TAGS)]\n",
    "        span_counts = Counter(spans)\n",
    "        total_count = len(spans)\n",
    "\n",
    "        # Compute entropy based on spans of language tokens\n",
    "        span_entropy = 0.0\n",
    "        for length, count in span_counts.items():\n",
    "                span_prob = count / float(total_count)\n",
    "                span_entropy -= span_prob * math.log2(span_prob)\n",
    "                \n",
    "        span_entropy /= math.log2(len(span_counts))\n",
    "\n",
    "        print(\"Span Entropy: {}\".format(span_entropy))\n",
    "        return span_entropy\n",
    "\n",
    "\n",
    "def switch_entropy():\n",
    "        switch_entropy = 0\n",
    "\n",
    "        # Compute vector of switch indices\n",
    "        for index, tag in enumerate(LANG_TAGS[:-1]):\n",
    "                if tag != LANG_TAGS[index + 1]:\n",
    "                        switch_entropy += 1\n",
    "        \n",
    "        switch_entropy = switch_entropy / (NUMTAGS - 1)\n",
    "        switch_entropy = - switch_entropy * math.log2(switch_entropy)\n",
    "\n",
    "        print(\"Switch Entropy: {}\".format(switch_entropy))\n",
    "        return switch_entropy\n",
    "\n",
    "\n",
    "def switch_surprisal():\n",
    "        surprisal = 0\n",
    "\n",
    "        # Compute vector of switch indices\n",
    "        for index, tag in enumerate(LANG_TAGS[:-1]):\n",
    "                if tag != LANG_TAGS[index + 1]:\n",
    "                        surprisal += 1\n",
    "\n",
    "        surprisal = surprisal / (NUMTAGS - 1)\n",
    "        surprisal = -math.log2(surprisal)\n",
    "\n",
    "        print(\"Switch Surprisal: {}\".format(surprisal))\n",
    "        return surprisal"
   ]
  },
  {
   "cell_type": "markdown",
   "metadata": {},
   "source": [
    "## Process\n",
    "### Step1: Import file using pandas' `read_csv`\n",
    "#### Delimiter\n",
    "The input file is expected to be a comma(or tab) separated file specified by the delimiter.\n",
    "#### Header\n",
    "If the file has NO header then let read_csv know it, because by default it expects a header.\n",
    "\n",
    "### Step2: Read all columns and give names to columns of interest\n",
    "The file may have multiple columns but we only need the word and its language tag. If it has other columns just read them and ignore them. For example, the Solorio_7k dataset that has 3 columns and the KC dataset which has 7 columns. \n",
    "### Step3: Preprocessing data\n",
    "#### Non-word tokens\n",
    "Look for only tokens that have word characters;  Word characters include letters (lowercase,uppercase), digits, underscore and hyphen (`A-Za-z0-9_-`). It also includes unicode characters from other languages (needs testing to make sure).\n",
    "#### Puntuation and Named Entities\n",
    "For now, we will treat them the same way. Replace the language TAG ('Punct'/'Other', 'NamedEnt') with the language TAG preceeding it. "
   ]
  },
  {
   "cell_type": "code",
   "execution_count": 9,
   "metadata": {},
   "outputs": [
    {
     "name": "stdout",
     "output_type": "stream",
     "text": [
      "Number of switchpoints: 514\n",
      "M-metric: 0.6032507267542166\n",
      "I-metric: 0.08076814459192319\n",
      "I-metric: 0.08076814459192319\n",
      "Normalized I-metric: 0.16020236087689715\n",
      "Burstiness: 0.2809722569687539\n",
      "Fano: 39.170111966506454\n",
      "Memory: -0.12955480386964177\n",
      "Language Entropy: 0.8132855669302232\n",
      "Span Entropy: 0.8026734232749695\n",
      "Switch Entropy: 0.29319400180773303\n",
      "Switch Surprisal: 3.630069791612527\n"
     ]
    },
    {
     "name": "stderr",
     "output_type": "stream",
     "text": [
      "/Users/jacquelineserigos/anaconda3/lib/python3.6/site-packages/ipykernel_launcher.py:4: UserWarning: This pattern has match groups. To actually get the groups, use str.extract.\n",
      "  after removing the cwd from sys.path.\n"
     ]
    }
   ],
   "source": [
    "langdata = pd.read_csv('../../codeswitch-annotation/Solorio7k/SolorioGoldStandard',header=None,sep='\\t')\n",
    "langdata.columns = ['word', 'language']\n",
    "# Only get tokens that are words\n",
    "langdata = langdata[langdata['word'].str.contains('(\\w+)', regex=True)]\n",
    "# Tokens tagged with language value as 'Other'/'Punct' and 'NamedEnt' are for \n",
    "# now converted to NaN. This lets use then do a fillna with a ffill method to \n",
    "# replace them with the previous language\n",
    "langdata.replace(['Other', 'Punct', 'NamedEnt','O'], [None, None, None, None], inplace=True)\n",
    "langdata.fillna(method='ffill', inplace=True)\n",
    "# LANG_TAGS without puntuation and Named Entinty\n",
    "LANG_TAGS = list(langdata['language'].values)\n",
    "# Languages\n",
    "LANGS = langdata['language'].unique()\n",
    "# Number of words/tokens\n",
    "NUMTAGS = len(LANG_TAGS)\n",
    "# Lets get some stats\n",
    "metrics()"
   ]
  },
  {
   "cell_type": "code",
   "execution_count": 10,
   "metadata": {},
   "outputs": [
    {
     "name": "stdout",
     "output_type": "stream",
     "text": [
      "Number of switchpoints: 12757\n",
      "M-metric: 0.9900635012562844\n",
      "I-metric: 0.22435544430538173\n",
      "I-metric: 0.22435544430538173\n",
      "Normalized I-metric: 0.24138766935114608\n",
      "Burstiness: 0.03661470638321851\n",
      "Fano: 5.160128461582305\n",
      "Memory: -0.013759199094242879\n",
      "Language Entropy: 0.9963952680740545\n",
      "Span Entropy: 0.6132748078068649\n",
      "Switch Entropy: 0.4837421742722639\n",
      "Switch Surprisal: 2.1561419013920498\n"
     ]
    },
    {
     "name": "stderr",
     "output_type": "stream",
     "text": [
      "/Users/jacquelineserigos/anaconda3/lib/python3.6/site-packages/ipykernel_launcher.py:6: UserWarning: This pattern has match groups. To actually get the groups, use str.extract.\n",
      "  \n"
     ]
    }
   ],
   "source": [
    "#Lets try it on a different dataset - KillerCronicas\n",
    "langdata = pd.read_csv('../../codeswitch-annotation/KillerCronicas/Killer_Cronicas-output.txt',\n",
    "                       delimiter=\",\",quoting=csv.QUOTE_NONE, encoding='utf-8')\n",
    "langdata.columns = ['word','language']\n",
    "# Only get tokens that are words\n",
    "langdata = langdata[langdata['word'].str.contains('(\\w+)', regex=True)]\n",
    "# Tokens tagged with language value as 'Other'/'Punct' and 'NamedEnt' are for \n",
    "# now converted to NaN. This lets us then do a fillna with a ffill method to \n",
    "# replace them with the previous language\n",
    "langdata.replace(['Other', 'Punct', 'NamedEnt','O'], [None, None, None, None], inplace=True)\n",
    "langdata.fillna(method='ffill', inplace=True)\n",
    "LANG_TAGS = list(langdata['language'].values)\n",
    "# Languages\n",
    "LANGS = langdata['language'].unique()\n",
    "# Number of words/tokens\n",
    "NUMTAGS = len(LANG_TAGS)\n",
    "# Lets get some stats\n",
    "metrics()"
   ]
  },
  {
   "cell_type": "code",
   "execution_count": 7,
   "metadata": {},
   "outputs": [
    {
     "name": "stdout",
     "output_type": "stream",
     "text": [
      "Number of switchpoints: 1308\n",
      "M-metric: 0.36602988074363463\n",
      "I-metric: 0.16013681592039805\n",
      "I-metric: 0.16013681592039805\n",
      "Normalized I-metric: 0.2675689744924519\n",
      "Burstiness: 0.2031047250344083\n",
      "Fano: 14.221953274090026\n",
      "Memory: -0.17457413757262538\n",
      "Language Entropy: 0.5825989239708359\n",
      "Span Entropy: 0.6408204873222269\n",
      "Switch Entropy: 0.4231812439648008\n",
      "Switch Surprisal: 2.642623069108348\n"
     ]
    },
    {
     "name": "stderr",
     "output_type": "stream",
     "text": [
      "/anaconda3/lib/python3.6/site-packages/ipykernel_launcher.py:6: UserWarning: This pattern has match groups. To actually get the groups, use str.extract.\n",
      "  \n"
     ]
    }
   ],
   "source": [
    "#Lets try it on a different dataset - Solorio7k\n",
    "langdata = pd.read_csv('../../codeswitch-annotation/Solorio7k/Solorio_7k-output.txt',\n",
    "                       delimiter=\",\",quoting=csv.QUOTE_NONE, encoding='utf-8')\n",
    "langdata.columns = ['word','language','yn']\n",
    "# Only get tokens that are words\n",
    "langdata = langdata[langdata['word'].str.contains('(\\w+)', regex=True)]\n",
    "# Tokens tagged with language value as 'Other'/'Punct' and 'NamedEnt' are for \n",
    "# now converted to NaN. This lets us then do a fillna with a ffill method to \n",
    "# replace them with the previous language\n",
    "langdata.replace(['Other', 'Punct', 'NamedEnt','O'], [None, None, None, None], inplace=True)\n",
    "langdata.fillna(method='ffill', inplace=True)\n",
    "LANG_TAGS = list(langdata['language'].values)\n",
    "# Languages\n",
    "LANGS = langdata['language'].unique()\n",
    "# Number of words/tokens\n",
    "NUMTAGS = len(LANG_TAGS)\n",
    "# Lets get some stats\n",
    "metrics()"
   ]
  },
  {
   "cell_type": "code",
   "execution_count": 8,
   "metadata": {},
   "outputs": [
    {
     "name": "stdout",
     "output_type": "stream",
     "text": [
      "Number of switchpoints: 13337\n",
      "M-metric: 0.9885346558017482\n",
      "I-metric: 0.23391929187697358\n",
      "I-metric: 0.23391929187697358\n",
      "Normalized I-metric: 0.2531144894389883\n",
      "Burstiness: 0.015132220354787444\n",
      "Fano: 4.54138126160089\n",
      "Memory: -0.025836625300681752\n",
      "Language Entropy: 0.9958369025453957\n",
      "Span Entropy: 0.6170865451969784\n",
      "Switch Entropy: 0.49027547797492654\n",
      "Switch Surprisal: 2.0959172458198947\n"
     ]
    },
    {
     "name": "stderr",
     "output_type": "stream",
     "text": [
      "/anaconda3/lib/python3.6/site-packages/ipykernel_launcher.py:6: UserWarning: This pattern has match groups. To actually get the groups, use str.extract.\n",
      "  \n"
     ]
    }
   ],
   "source": [
    "#Lets try it on a different dataset - KillerCronicas\n",
    "langdata = pd.read_csv('KC_Output_Annotated_Complete.txt',\n",
    "                       delimiter=\"\\t\",quoting=csv.QUOTE_NONE, encoding='utf-8')\n",
    "langdata.columns = ['word','language','ne','e_ng_prob','sp_ng_prob','hmm_prob', 'tot_prob' ]\n",
    "# Only get tokens that are words\n",
    "langdata = langdata[langdata['word'].str.contains('(\\w+)', regex=True)]\n",
    "# Tokens tagged with language value as 'Other'/'Punct' and 'NamedEnt' are for \n",
    "# now converted to NaN. This lets us then do a fillna with a ffill method to \n",
    "# replace them with the previous language\n",
    "langdata.replace(['Other', 'Punct', 'NamedEnt','O'], [None, None, None, None], inplace=True)\n",
    "langdata.fillna(method='ffill', inplace=True)\n",
    "LANG_TAGS = list(langdata['language'].values)\n",
    "# Languages\n",
    "LANGS = langdata['language'].unique()\n",
    "# Number of words/tokens\n",
    "NUMTAGS = len(LANG_TAGS)\n",
    "# Lets get some stats\n",
    "metrics()"
   ]
  },
  {
   "cell_type": "code",
   "execution_count": 7,
   "metadata": {},
   "outputs": [
    {
     "name": "stdout",
     "output_type": "stream",
     "text": [
      "Number of switchpoints: 3202\n",
      "M-metric: 0.9674659760199197\n",
      "I-metric: 0.036769555467616406\n",
      "Burstiness: 0.3749696867887837\n",
      "Memory: -0.11611865333926795\n",
      "Language Entropy: 0.9880387014531635\n",
      "Span Entropy: 5.174198662369469\n",
      "Switch Entropy: 0.17521959725520922\n",
      "Switch Surprisal: 4.765344454858265\n"
     ]
    },
    {
     "name": "stderr",
     "output_type": "stream",
     "text": [
      "C:\\Users\\ry2333\\anaconda\\lib\\site-packages\\ipykernel_launcher.py:6: UserWarning: This pattern has match groups. To actually get the groups, use str.extract.\n",
      "  \n"
     ]
    }
   ],
   "source": [
    "#Lets try it on a different dataset - YYB\n",
    "langdata = pd.read_csv('YYB_Output_Annotated.txt',\n",
    "                       delimiter=\"\\t\",quoting=csv.QUOTE_NONE, encoding='utf-8')\n",
    "langdata.columns = ['word','language','ne','e_ng_prob','sp_ng_prob','hmm_prob', 'tot_prob' ]\n",
    "# Only get tokens that are words\n",
    "langdata = langdata[langdata['word'].str.contains('(\\w+)', regex=True)]\n",
    "# Tokens tagged with language value as 'Other'/'Punct' and 'NamedEnt' are for \n",
    "# now converted to NaN. This lets us then do a fillna with a ffill method to \n",
    "# replace them with the previous language\n",
    "langdata.replace(['Other', 'Punct', 'NamedEnt','O'], [None, None, None, None], inplace=True)\n",
    "langdata.fillna(method='ffill', inplace=True)\n",
    "LANG_TAGS = list(langdata['language'].values)\n",
    "# Languages\n",
    "LANGS = langdata['language'].unique()\n",
    "# Number of words/tokens\n",
    "NUMTAGS = len(LANG_TAGS)\n",
    "# Lets get some stats\n",
    "metrics()"
   ]
  },
  {
   "cell_type": "code",
   "execution_count": 13,
   "metadata": {},
   "outputs": [
    {
     "name": "stdout",
     "output_type": "stream",
     "text": [
      "Number of switchpoints: 2530\n",
      "M-metric: 0.9879129203422643\n",
      "I-metric: 0.14078777656513541\n",
      "Burstiness: -0.0412341134902221\n",
      "Memory: 0.04419927216271496\n",
      "Language Entropy: 0.9956095450334453\n",
      "Span Entropy: 4.129361776569194\n",
      "Switch Entropy: 0.3982049937541405\n",
      "Switch Surprisal: 2.828406012718803\n"
     ]
    },
    {
     "name": "stderr",
     "output_type": "stream",
     "text": [
      "C:\\Users\\ry2333\\anaconda\\lib\\site-packages\\ipykernel_launcher.py:22: UserWarning: This pattern has match groups. To actually get the groups, use str.extract.\n"
     ]
    }
   ],
   "source": [
    "#Lets try it on a different dataset - KillerCronicas Gold Standard\n",
    "langdata = pd.read_csv('../../codeswitch-annotation/KillerCronicas/KillerCronicasGoldStandard',\n",
    "                       delimiter=\"\\t\",quoting=csv.QUOTE_NONE, encoding='utf-8')\n",
    "langdata.columns = ['word','language']\n",
    "# The Gold Standard has way more language tags than the others:\n",
    "# array(['Spn', 'Eng', Punct', 'NamedEnt', Num', 'EngNoSpace', 'NonStSpn', 'Ital',\n",
    "#       'MixedNoSpace', 'Afrk', 'NonStEng', 'Mixed', 'Frn', 'SpnNoSpace',\n",
    "#       'EngNonSt', 'Yidd', 'Latin']\n",
    "#We still are only interested in languages tagged as Eng or Spn\n",
    "# Tokens tagged with language values that seem like Eng/Spn and Punct, NamedEnt\n",
    "# will be kept and now converted to NaN. \n",
    "# This lets us then do a fillna with a ffill method to \n",
    "# replace them with the previous language (hopefully Eng or Spn)\n",
    "langdata.replace(['Punct', 'NamedEnt'\n",
    "                ,'Num' , 'EngNoSpace', 'NonStSpn','MixedNoSpace', 'NonStEng', 'SpnNoSpace','EngNonSt'\n",
    "                 ]\n",
    "                  ,[None, None\n",
    "                 , None , None, None, None, None, None, None\n",
    "                   ], inplace=True)\n",
    "langdata.fillna(method='ffill', inplace=True)\n",
    "# Now drop other languages that are not Eng, Spn \n",
    "langdata = langdata[langdata['language'].str.contains('(^Spn$|^Eng$)', regex=True)]\n",
    "LANG_TAGS = list(langdata['language'].values)\n",
    "# Languages\n",
    "LANGS = langdata['language'].unique()\n",
    "# Number of words/tokens\n",
    "NUMTAGS = len(LANG_TAGS)\n",
    "# Lets get some stats\n",
    "metrics()"
   ]
  },
  {
   "cell_type": "code",
   "execution_count": 9,
   "metadata": {},
   "outputs": [
    {
     "name": "stdout",
     "output_type": "stream",
     "text": [
      "Number of switchpoints: 2530\n",
      "M-metric: 0.9879129203422643\n",
      "I-metric: 0.14078777656513541\n",
      "Burstiness: -0.0412341134902221\n",
      "Memory: 0.04419927216271496\n",
      "Language Entropy: 0.9956095450334453\n",
      "Span Entropy: 4.129361776569194\n",
      "Switch Entropy: 0.3982049937541405\n",
      "Switch Surprisal: 2.828406012718803\n"
     ]
    }
   ],
   "source": []
  },
  {
   "cell_type": "code",
   "execution_count": 12,
   "metadata": {},
   "outputs": [
    {
     "name": "stdout",
     "output_type": "stream",
     "text": [
      "Number of switchpoints: 1058\n",
      "M-metric: 0.9467069340327517\n",
      "I-metric: 0.044737426857269835\n",
      "I-metric: 0.044737426857269835\n",
      "Normalized I-metric: 0.05351912665305761\n",
      "Burstiness: 0.24470684945171087\n",
      "Fano: 60.61021091457525\n",
      "Memory: -0.12960969783108436\n",
      "Language Entropy: 0.9801612808125195\n",
      "Span Entropy: 0.8099598519045739\n",
      "Switch Entropy: 0.20052987493849045\n",
      "Switch Surprisal: 4.482373909841986\n"
     ]
    }
   ],
   "source": [
    "#Lets try it on a different dataset - BCBC\n",
    "langdata = pd.read_csv('/Users/jacquelineserigos/Documents/GitHub/codeswitch-annotation/BonCop/BonCopTokensByLine_annotatedWithHMM_v4.tsv',\n",
    "                       delimiter=\"\\t\",quoting=csv.QUOTE_NONE, comment='#', encoding='utf-8')\n",
    "# Rename columns\n",
    "langdata.columns = ['word', 'language']\n",
    "# Tokens tagged with language value as 'Other'/'Punct' and 'NamedEnt' are for \n",
    "# now converted to NaN. This lets us then do a fillna with a ffill method to \n",
    "# replace them with the previous language\n",
    "langdata.replace(['Other', 'Punct', 'NamedEnt','O'], [None, None, None, None], inplace=True)\n",
    "langdata.fillna(method='ffill', inplace=True)\n",
    "LANG_TAGS = list(langdata['language'].values)\n",
    "# Languages\n",
    "LANGS = langdata['language'].unique()\n",
    "# Number of words/tokens\n",
    "NUMTAGS = len(LANG_TAGS)\n",
    "# Lets get some stats\n",
    "metrics()\n",
    "\n",
    "\n",
    "\n",
    "\n",
    "\n"
   ]
  },
  {
   "cell_type": "code",
   "execution_count": 12,
   "metadata": {},
   "outputs": [
    {
     "data": {
      "image/png": "[encoded data removed]",
      "text/plain": [
       "<Figure size 432x288 with 1 Axes>"
      ]
     },
     "metadata": {
      "needs_background": "light"
     },
     "output_type": "display_data"
    }
   ],
   "source": [
    "from wordcloud import WordCloud\n",
    "import matplotlib.pyplot as plt\n",
    "import random\n",
    "# Get all words \n",
    "#all_words = ' '.join(langdata['word'])\n",
    "# Get only English words\n",
    "eng_words = langdata[langdata['language'].str.contains(r'^Eng$')]['word']\n",
    "# Get only Spanish words\n",
    "spn_words = langdata[langdata['language'].str.contains(r'^Spn$')]['word']\n",
    "# Get only words that are longer than N chars\n",
    "N = 4\n",
    "eng_string = ' '.join(x for x in eng_words if len(x)>N)\n",
    "spn_string = ' '.join(x for x in spn_words if len(x)>N)\n",
    "Ewordcloud = WordCloud(font_path='C:\\\\Users\\\\ry2333\\\\anaconda\\\\Lib\\\\site-packages\\\\matplotlib\\\\mpl-data\\\\fonts\\\\ttf\\\\DejaVuSerif.ttf',max_words=50,background_color='white',\n",
    "                          width=2400,\n",
    "                          height=1600).generate(eng_string)\n",
    "Swordcloud = WordCloud(font_path='C:\\\\Users\\\\ry2333\\\\anaconda\\\\Lib\\\\site-packages\\\\matplotlib\\\\mpl-data\\\\fonts\\\\ttf\\\\DejaVuSerif.ttf',max_words=50,background_color='white',\n",
    "                          width=2400,\n",
    "                          height=1600).generate(spn_string)\n",
    "plt.imshow(Swordcloud)\n",
    "plt.axis('off')\n",
    "plt.show()"
   ]
  },
  {
   "cell_type": "code",
   "execution_count": 11,
   "metadata": {},
   "outputs": [
    {
     "data": {
      "image/png": "[encoded data removed]",
      "text/plain": [
       "<Figure size 432x288 with 1 Axes>"
      ]
     },
     "metadata": {
      "needs_background": "light"
     },
     "output_type": "display_data"
    }
   ],
   "source": [
    "plt.imshow(Ewordcloud)\n",
    "plt.axis('off')\n",
    "plt.show()"
   ]
  },
  {
   "cell_type": "code",
   "execution_count": null,
   "metadata": {},
   "outputs": [],
   "source": []
  }
 ],
 "metadata": {
  "kernelspec": {
   "display_name": "Python 3",
   "language": "python",
   "name": "python3"
  },
  "language_info": {
   "codemirror_mode": {
    "name": "ipython",
    "version": 3
   },
   "file_extension": ".py",
   "mimetype": "text/x-python",
   "name": "python",
   "nbconvert_exporter": "python",
   "pygments_lexer": "ipython3",
   "version": "3.6.5"
  }
 },
 "nbformat": 4,
 "nbformat_minor": 2
}
